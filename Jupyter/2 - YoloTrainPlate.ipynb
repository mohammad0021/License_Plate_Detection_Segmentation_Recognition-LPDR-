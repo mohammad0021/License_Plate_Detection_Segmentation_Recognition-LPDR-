{
  "nbformat": 4,
  "nbformat_minor": 0,
  "metadata": {
    "colab": {
      "name": "YoloObjectDetectionTrain.ipynb",
      "provenance": [],
      "collapsed_sections": []
    },
    "kernelspec": {
      "name": "python3",
      "display_name": "Python 3"
    },
    "language_info": {
      "name": "python"
    }
  },
  "cells": [
    {
      "cell_type": "code",
      "metadata": {
        "id": "9KgksPllRpsH",
        "colab": {
          "base_uri": "https://localhost:8080/",
          "height": 299
        },
        "outputId": "0bbb2d83-5f18-4393-e894-10a3efc5d47f"
      },
      "source": [
        "# ! cd \"/content/drive/MyDrive/programs\"; git clone https://github.com/ultralytics/yolov5  # clone repo\n",
        "# ! pip install -U -r yolov5/requirements.txt  # install dependencies\n",
        "# ! pip install -U PyYAML\n",
        "# ! pip install wandb"
      ],
      "execution_count": null,
      "outputs": [
        {
          "output_type": "stream",
          "name": "stdout",
          "text": [
            "Requirement already satisfied: PyYAML in /usr/local/lib/python3.7/dist-packages (3.13)\n",
            "Collecting PyYAML\n",
            "  Downloading PyYAML-6.0-cp37-cp37m-manylinux_2_5_x86_64.manylinux1_x86_64.manylinux_2_12_x86_64.manylinux2010_x86_64.whl (596 kB)\n",
            "\u001b[K     |████████████████████████████████| 596 kB 5.3 MB/s \n",
            "\u001b[?25hInstalling collected packages: PyYAML\n",
            "  Attempting uninstall: PyYAML\n",
            "    Found existing installation: PyYAML 3.13\n",
            "    Uninstalling PyYAML-3.13:\n",
            "      Successfully uninstalled PyYAML-3.13\n",
            "Successfully installed PyYAML-6.0\n"
          ]
        },
        {
          "output_type": "display_data",
          "data": {
            "application/vnd.colab-display-data+json": {
              "pip_warning": {
                "packages": [
                  "yaml"
                ]
              }
            }
          },
          "metadata": {}
        }
      ]
    },
    {
      "cell_type": "markdown",
      "metadata": {
        "id": "vmOEloRXnO-0"
      },
      "source": [
        "**Download Datasets**"
      ]
    },
    {
      "cell_type": "code",
      "metadata": {
        "id": "RBF-GnUsVD-5"
      },
      "source": [
        "# ! cd \"/content/drive/MyDrive/dataset\"; wget \"https://github.com/alitourani/Iranis-dataset/raw/master/Iranis%20Dataset%20Files.zip\"\n",
        "# ! cd \"/content/drive/MyDrive/dataset/Plates\"; wget \"https://archive.org/download/HDRDataset/2017-IWT4S-HDR_LP-dataset.zip\"; unzip \"2017-IWT4S-HDR_LP-dataset.zip\""
      ],
      "execution_count": null,
      "outputs": []
    },
    {
      "cell_type": "code",
      "metadata": {
        "colab": {
          "base_uri": "https://localhost:8080/"
        },
        "id": "cbhgEfr-SNLA",
        "outputId": "ade870a5-322c-4a52-ec59-7ff4ca94f57b"
      },
      "source": [
        "import torch\n",
        "import os\n",
        "import cv2\n",
        "from IPython.display import display, Image  # for displaying images\n",
        "from IPython.core.magic import register_line_cell_magic\n",
        "import yaml # define number of classes based on YAML\n",
        "import wandb\n",
        "from utils.utils import plot_results\n",
        "\n",
        "print('Using torch %s %s' % (torch.__version__, torch.cuda.get_device_properties(0) if torch.cuda.is_available() else 'CPU'))"
      ],
      "execution_count": null,
      "outputs": [
        {
          "output_type": "stream",
          "name": "stdout",
          "text": [
            "Using torch 1.9.0+cu111 CPU\n"
          ]
        }
      ]
    },
    {
      "cell_type": "code",
      "metadata": {
        "colab": {
          "base_uri": "https://localhost:8080/",
          "height": 104
        },
        "id": "Hx7QdHyJAgoM",
        "outputId": "e3ba239d-32cc-4ba4-9aa8-67aba87a3add"
      },
      "source": [
        "wandb.login()"
      ],
      "execution_count": null,
      "outputs": [
        {
          "output_type": "display_data",
          "data": {
            "application/javascript": [
              "\n",
              "        window._wandbApiKey = new Promise((resolve, reject) => {\n",
              "            function loadScript(url) {\n",
              "            return new Promise(function(resolve, reject) {\n",
              "                let newScript = document.createElement(\"script\");\n",
              "                newScript.onerror = reject;\n",
              "                newScript.onload = resolve;\n",
              "                document.body.appendChild(newScript);\n",
              "                newScript.src = url;\n",
              "            });\n",
              "            }\n",
              "            loadScript(\"https://cdn.jsdelivr.net/npm/postmate/build/postmate.min.js\").then(() => {\n",
              "            const iframe = document.createElement('iframe')\n",
              "            iframe.style.cssText = \"width:0;height:0;border:none\"\n",
              "            document.body.appendChild(iframe)\n",
              "            const handshake = new Postmate({\n",
              "                container: iframe,\n",
              "                url: 'https://wandb.ai/authorize'\n",
              "            });\n",
              "            const timeout = setTimeout(() => reject(\"Couldn't auto authenticate\"), 5000)\n",
              "            handshake.then(function(child) {\n",
              "                child.on('authorize', data => {\n",
              "                    clearTimeout(timeout)\n",
              "                    resolve(data)\n",
              "                });\n",
              "            });\n",
              "            })\n",
              "        });\n",
              "    "
            ],
            "text/plain": [
              "<IPython.core.display.Javascript object>"
            ]
          },
          "metadata": {}
        },
        {
          "output_type": "stream",
          "name": "stderr",
          "text": [
            "\u001b[34m\u001b[1mwandb\u001b[0m: You can find your API key in your browser here: https://wandb.ai/authorize\n"
          ]
        },
        {
          "name": "stdout",
          "output_type": "stream",
          "text": [
            "wandb: Paste an API key from your profile and hit enter: ··········\n"
          ]
        },
        {
          "output_type": "stream",
          "name": "stderr",
          "text": [
            "\u001b[34m\u001b[1mwandb\u001b[0m: Appending key for api.wandb.ai to your netrc file: /root/.netrc\n"
          ]
        },
        {
          "output_type": "execute_result",
          "data": {
            "text/plain": [
              "True"
            ]
          },
          "metadata": {},
          "execution_count": 52
        }
      ]
    },
    {
      "cell_type": "code",
      "metadata": {
        "id": "B3AliC6xCxmW"
      },
      "source": [
        "def load_images_from_folder(folder, fdis):\n",
        "    images = []\n",
        "    for filename in os.listdir(folder):\n",
        "        img = cv2.imread(os.path.join(folder,filename),0)\n",
        "        if img is not None:\n",
        "          img= cv2.resize(img, (128,128))\n",
        "          img= cv2.GaussianBlur(img, (5,5), 0.3)\n",
        "          filename= filename.replace('png','jpeg')\n",
        "          cv2.imwrite(fdis+filename, img)\n",
        "\n",
        "load_images_from_folder(\"/content/drive/MyDrive/dataset/Plates/crop_m4/\", \"/content/drive/MyDrive/dataset/Plates/val/\")"
      ],
      "execution_count": null,
      "outputs": []
    },
    {
      "cell_type": "code",
      "metadata": {
        "id": "6R30tisnWsz0"
      },
      "source": [
        "def LableGenerationFiles(ID, x,y,w,h):\n",
        "  folder='/content/drive/MyDrive/dataset/Plates/val/'\n",
        "  for filename in os.listdir(folder):\n",
        "    filename= filename.replace('jpeg','txt')\n",
        "    f = open(folder+filename, \"w\")\n",
        "    lables= ID+' '+x+' '+y+' '+w+' '+h\n",
        "    f.write(lables+\"\\n\")\n",
        "    f.close()\n",
        "\n",
        "LableGenerationFiles('0','0.503906', '0.503906', '0.992188', '0.992188')"
      ],
      "execution_count": null,
      "outputs": []
    },
    {
      "cell_type": "code",
      "metadata": {
        "colab": {
          "base_uri": "https://localhost:8080/"
        },
        "id": "DfK9FBzSne60",
        "outputId": "36de1dd4-3f9d-45ea-d249-3cf0d481f210"
      },
      "source": [
        "# data.yaml contains the information about number of classes and their labels required for this project\n",
        "with open(\"/content/drive/MyDrive/programs/yolov5/data.yaml\", 'r') as stream:\n",
        "    num_classes = str(yaml.safe_load(stream)['nc'])\n",
        "\n",
        "print(num_classes)"
      ],
      "execution_count": null,
      "outputs": [
        {
          "output_type": "stream",
          "name": "stdout",
          "text": [
            "1\n"
          ]
        }
      ]
    },
    {
      "cell_type": "code",
      "metadata": {
        "id": "bTllu9EUTSkL"
      },
      "source": [
        "#customize iPython writefile so we can write variables\n",
        "@register_line_cell_magic\n",
        "def writetemplate(line, cell):\n",
        "    with open(line, 'w') as f:\n",
        "        f.write(cell.format(**globals()))"
      ],
      "execution_count": null,
      "outputs": []
    },
    {
      "cell_type": "code",
      "metadata": {
        "id": "gOD1jYgyn9FY"
      },
      "source": [
        "# The FullLoader parameter handles the conversion from YAML\n",
        "# scalar values to Python the dictionary format\n",
        "with open(r'/content/drive/MyDrive/programs/yolov5/data.yaml') as file:\n",
        "    labels_list = yaml.load(file, Loader=yaml.FullLoader)\n",
        "    label_names = labels_list['names']"
      ],
      "execution_count": null,
      "outputs": []
    },
    {
      "cell_type": "code",
      "metadata": {
        "id": "N9MVvGm-n9Hz",
        "colab": {
          "base_uri": "https://localhost:8080/"
        },
        "outputId": "68e81f9a-22bb-40c5-dcce-4a1fd7e066e9"
      },
      "source": [
        "print(\"Number of Classes are {}, whose labels are {} for this Object Detection project\".format(num_classes,label_names))"
      ],
      "execution_count": null,
      "outputs": [
        {
          "output_type": "stream",
          "name": "stdout",
          "text": [
            "Number of Classes are 1, whose labels are ['plate'] for this Object Detection project\n"
          ]
        }
      ]
    },
    {
      "cell_type": "code",
      "metadata": {
        "colab": {
          "base_uri": "https://localhost:8080/"
        },
        "id": "E56y2zNJ1zzI",
        "outputId": "7b1113bf-69b3-478d-fea6-d19c7e2d183f"
      },
      "source": [
        "! cd '/content/drive/MyDrive/programs/yolov5/'; python train.py --img 128 --batch 32 --epochs 50 --data '/content/drive/MyDrive/programs/yolov5/data.yaml' --cfg '/content/drive/MyDrive/programs/yolov5/models/yolov5s.yaml' --weights ''"
      ],
      "execution_count": null,
      "outputs": [
        {
          "output_type": "stream",
          "name": "stdout",
          "text": [
            "\u001b[34m\u001b[1mwandb\u001b[0m: Currently logged in as: \u001b[33mreza00021\u001b[0m (use `wandb login --relogin` to force relogin)\n",
            "\u001b[34m\u001b[1mtrain: \u001b[0mweights=, cfg=/content/drive/MyDrive/programs/yolov5/models/yolov5s.yaml, data=/content/drive/MyDrive/programs/yolov5/data.yaml, hyp=data/hyps/hyp.scratch.yaml, epochs=50, batch_size=32, imgsz=128, rect=False, resume=False, nosave=False, noval=False, noautoanchor=False, evolve=None, bucket=, cache=None, image_weights=False, device=, multi_scale=False, single_cls=False, adam=False, sync_bn=False, workers=8, project=runs/train, name=exp, exist_ok=False, quad=False, linear_lr=False, label_smoothing=0.0, patience=100, freeze=0, save_period=-1, local_rank=-1, entity=None, upload_dataset=False, bbox_interval=-1, artifact_alias=latest\n",
            "\u001b[34m\u001b[1mgithub: \u001b[0mup to date with https://github.com/ultralytics/yolov5 ✅\n",
            "YOLOv5 🚀 v6.0-13-gfc36064 torch 1.9.0+cu111 CPU\n",
            "\n",
            "\u001b[34m\u001b[1mhyperparameters: \u001b[0mlr0=0.01, lrf=0.1, momentum=0.937, weight_decay=0.0005, warmup_epochs=3.0, warmup_momentum=0.8, warmup_bias_lr=0.1, box=0.05, cls=0.5, cls_pw=1.0, obj=1.0, obj_pw=1.0, iou_t=0.2, anchor_t=4.0, fl_gamma=0.0, hsv_h=0.015, hsv_s=0.7, hsv_v=0.4, degrees=0.0, translate=0.1, scale=0.5, shear=0.0, perspective=0.0, flipud=0.0, fliplr=0.5, mosaic=1.0, mixup=0.0, copy_paste=0.0\n",
            "\u001b[34m\u001b[1mTensorBoard: \u001b[0mStart with 'tensorboard --logdir runs/train', view at http://localhost:6006/\n",
            "\u001b[34m\u001b[1mwandb\u001b[0m: Tracking run with wandb version 0.12.4\n",
            "\u001b[34m\u001b[1mwandb\u001b[0m: Syncing run \u001b[33mradiant-dust-3\u001b[0m\n",
            "\u001b[34m\u001b[1mwandb\u001b[0m: ⭐️ View project at \u001b[34m\u001b[4mhttps://wandb.ai/reza00021/YOLOv5\u001b[0m\n",
            "\u001b[34m\u001b[1mwandb\u001b[0m: 🚀 View run at \u001b[34m\u001b[4mhttps://wandb.ai/reza00021/YOLOv5/runs/2pklyxtw\u001b[0m\n",
            "\u001b[34m\u001b[1mwandb\u001b[0m: Run data is saved locally in /content/drive/MyDrive/programs/yolov5/wandb/run-20211015_103332-2pklyxtw\n",
            "\u001b[34m\u001b[1mwandb\u001b[0m: Run `wandb offline` to turn off syncing.\n",
            "\n",
            "Overriding model.yaml nc=80 with nc=1\n",
            "\n",
            "                 from  n    params  module                                  arguments                     \n",
            "  0                -1  1      3520  models.common.Conv                      [3, 32, 6, 2, 2]              \n",
            "  1                -1  1     18560  models.common.Conv                      [32, 64, 3, 2]                \n",
            "  2                -1  1     18816  models.common.C3                        [64, 64, 1]                   \n",
            "  3                -1  1     73984  models.common.Conv                      [64, 128, 3, 2]               \n",
            "  4                -1  2    115712  models.common.C3                        [128, 128, 2]                 \n",
            "  5                -1  1    295424  models.common.Conv                      [128, 256, 3, 2]              \n",
            "  6                -1  3    625152  models.common.C3                        [256, 256, 3]                 \n",
            "  7                -1  1   1180672  models.common.Conv                      [256, 512, 3, 2]              \n",
            "  8                -1  1   1182720  models.common.C3                        [512, 512, 1]                 \n",
            "  9                -1  1    656896  models.common.SPPF                      [512, 512, 5]                 \n",
            " 10                -1  1    131584  models.common.Conv                      [512, 256, 1, 1]              \n",
            " 11                -1  1         0  torch.nn.modules.upsampling.Upsample    [None, 2, 'nearest']          \n",
            " 12           [-1, 6]  1         0  models.common.Concat                    [1]                           \n",
            " 13                -1  1    361984  models.common.C3                        [512, 256, 1, False]          \n",
            " 14                -1  1     33024  models.common.Conv                      [256, 128, 1, 1]              \n",
            " 15                -1  1         0  torch.nn.modules.upsampling.Upsample    [None, 2, 'nearest']          \n",
            " 16           [-1, 4]  1         0  models.common.Concat                    [1]                           \n",
            " 17                -1  1     90880  models.common.C3                        [256, 128, 1, False]          \n",
            " 18                -1  1    147712  models.common.Conv                      [128, 128, 3, 2]              \n",
            " 19          [-1, 14]  1         0  models.common.Concat                    [1]                           \n",
            " 20                -1  1    296448  models.common.C3                        [256, 256, 1, False]          \n",
            " 21                -1  1    590336  models.common.Conv                      [256, 256, 3, 2]              \n",
            " 22          [-1, 10]  1         0  models.common.Concat                    [1]                           \n",
            " 23                -1  1   1182720  models.common.C3                        [512, 512, 1, False]          \n",
            " 24      [17, 20, 23]  1     16182  models.yolo.Detect                      [1, [[10, 13, 16, 30, 33, 23], [30, 61, 62, 45, 59, 119], [116, 90, 156, 198, 373, 326]], [128, 256, 512]]\n",
            "Model Summary: 270 layers, 7022326 parameters, 7022326 gradients\n",
            "\n",
            "Scaled weight_decay = 0.0005\n",
            "\u001b[34m\u001b[1moptimizer:\u001b[0m SGD with parameter groups 57 weight, 60 weight (no decay), 60 bias\n",
            "\u001b[34m\u001b[1malbumentations: \u001b[0mversion 1.0.3 required by YOLOv5, but version 0.1.12 is currently installed\n",
            "\u001b[34m\u001b[1mtrain: \u001b[0mScanning '/content/drive/MyDrive/dataset/Plates/train.cache' images and labels... 585 found, 0 missing, 0 empty, 0 corrupted: 100% 585/585 [00:00<?, ?it/s]\n",
            "\u001b[34m\u001b[1mval: \u001b[0mScanning '/content/drive/MyDrive/dataset/Plates/val.cache' images and labels... 87 found, 0 missing, 0 empty, 0 corrupted: 100% 87/87 [00:00<?, ?it/s]\n",
            "Plotting labels... \n",
            "\n",
            "\u001b[34m\u001b[1mautoanchor: \u001b[0mAnalyzing anchors... anchors/target = 5.22, Best Possible Recall (BPR) = 1.0000\n",
            "Image sizes 128 train, 128 val\n",
            "Using 2 dataloader workers\n",
            "Logging results to \u001b[1mruns/train/exp11\u001b[0m\n",
            "Starting training for 50 epochs...\n",
            "\n",
            "     Epoch   gpu_mem       box       obj       cls    labels  img_size\n",
            "      0/49        0G   0.09861   0.02217         0        25       128: 100% 19/19 [00:44<00:00,  2.33s/it]\n",
            "               Class     Images     Labels          P          R     mAP@.5 mAP@.5:.95: 100% 2/2 [00:02<00:00,  1.41s/it]\n",
            "                 all         87         87       0.04          1     0.0663    0.00663\n",
            "\n",
            "     Epoch   gpu_mem       box       obj       cls    labels  img_size\n",
            "      1/49        0G   0.08747   0.02514         0        31       128: 100% 19/19 [00:41<00:00,  2.17s/it]\n",
            "               Class     Images     Labels          P          R     mAP@.5 mAP@.5:.95: 100% 2/2 [00:02<00:00,  1.37s/it]\n",
            "                 all         87         87       0.04          1     0.0663    0.00663\n",
            "\n",
            "     Epoch   gpu_mem       box       obj       cls    labels  img_size\n",
            "      2/49        0G   0.08495   0.02493         0        27       128: 100% 19/19 [00:41<00:00,  2.18s/it]\n",
            "               Class     Images     Labels          P          R     mAP@.5 mAP@.5:.95: 100% 2/2 [00:02<00:00,  1.39s/it]\n",
            "                 all         87         87       0.04          1     0.0829    0.00829\n",
            "\n",
            "     Epoch   gpu_mem       box       obj       cls    labels  img_size\n",
            "      3/49        0G   0.08368   0.02541         0        28       128: 100% 19/19 [00:41<00:00,  2.17s/it]\n",
            "               Class     Images     Labels          P          R     mAP@.5 mAP@.5:.95: 100% 2/2 [00:02<00:00,  1.36s/it]\n",
            "                 all         87         87     0.0625          1     0.0876    0.00876\n",
            "\n",
            "     Epoch   gpu_mem       box       obj       cls    labels  img_size\n",
            "      4/49        0G   0.08335   0.02394         0        27       128: 100% 19/19 [00:41<00:00,  2.19s/it]\n",
            "               Class     Images     Labels          P          R     mAP@.5 mAP@.5:.95: 100% 2/2 [00:03<00:00,  1.58s/it]\n",
            "                 all         87         87     0.0807      0.954     0.0831    0.00831\n",
            "\n",
            "     Epoch   gpu_mem       box       obj       cls    labels  img_size\n",
            "      5/49        0G   0.08195   0.02319         0        27       128: 100% 19/19 [00:41<00:00,  2.17s/it]\n",
            "               Class     Images     Labels          P          R     mAP@.5 mAP@.5:.95: 100% 2/2 [00:02<00:00,  1.38s/it]\n",
            "                 all         87         87     0.0833          1     0.0831     0.0166\n",
            "\n",
            "     Epoch   gpu_mem       box       obj       cls    labels  img_size\n",
            "      6/49        0G   0.08151   0.02328         0        33       128: 100% 19/19 [00:41<00:00,  2.20s/it]\n",
            "               Class     Images     Labels          P          R     mAP@.5 mAP@.5:.95: 100% 2/2 [00:02<00:00,  1.38s/it]\n",
            "                 all         87         87     0.0763      0.793     0.0718     0.0075\n",
            "\n",
            "     Epoch   gpu_mem       box       obj       cls    labels  img_size\n",
            "      7/49        0G   0.08101   0.02214         0        28       128: 100% 19/19 [00:41<00:00,  2.16s/it]\n",
            "               Class     Images     Labels          P          R     mAP@.5 mAP@.5:.95: 100% 2/2 [00:02<00:00,  1.36s/it]\n",
            "                 all         87         87     0.0721      0.655     0.0832     0.0192\n",
            "\n",
            "     Epoch   gpu_mem       box       obj       cls    labels  img_size\n",
            "      8/49        0G   0.08129   0.02242         0        29       128: 100% 19/19 [00:41<00:00,  2.16s/it]\n",
            "               Class     Images     Labels          P          R     mAP@.5 mAP@.5:.95: 100% 2/2 [00:02<00:00,  1.37s/it]\n",
            "                 all         87         87      0.073      0.805     0.0695      0.015\n",
            "\n",
            "     Epoch   gpu_mem       box       obj       cls    labels  img_size\n",
            "      9/49        0G   0.07942   0.02197         0        24       128: 100% 19/19 [00:41<00:00,  2.16s/it]\n",
            "               Class     Images     Labels          P          R     mAP@.5 mAP@.5:.95: 100% 2/2 [00:03<00:00,  1.64s/it]\n",
            "                 all         87         87     0.0878      0.793      0.111     0.0229\n",
            "\n",
            "     Epoch   gpu_mem       box       obj       cls    labels  img_size\n",
            "     10/49        0G   0.07863   0.02268         0        28       128: 100% 19/19 [00:42<00:00,  2.22s/it]\n",
            "               Class     Images     Labels          P          R     mAP@.5 mAP@.5:.95: 100% 2/2 [00:02<00:00,  1.38s/it]\n",
            "                 all         87         87     0.0866      0.759     0.0914     0.0231\n",
            "\n",
            "     Epoch   gpu_mem       box       obj       cls    labels  img_size\n",
            "     11/49        0G   0.07894   0.02238         0        25       128: 100% 19/19 [00:41<00:00,  2.21s/it]\n",
            "               Class     Images     Labels          P          R     mAP@.5 mAP@.5:.95: 100% 2/2 [00:02<00:00,  1.39s/it]\n",
            "                 all         87         87     0.0894      0.667      0.097     0.0154\n",
            "\n",
            "     Epoch   gpu_mem       box       obj       cls    labels  img_size\n",
            "     12/49        0G   0.07743   0.02248         0        27       128: 100% 19/19 [00:41<00:00,  2.20s/it]\n",
            "               Class     Images     Labels          P          R     mAP@.5 mAP@.5:.95: 100% 2/2 [00:02<00:00,  1.38s/it]\n",
            "                 all         87         87     0.0921       0.77       0.11     0.0277\n",
            "\n",
            "     Epoch   gpu_mem       box       obj       cls    labels  img_size\n",
            "     13/49        0G   0.07642   0.02241         0        29       128: 100% 19/19 [00:41<00:00,  2.21s/it]\n",
            "               Class     Images     Labels          P          R     mAP@.5 mAP@.5:.95: 100% 2/2 [00:02<00:00,  1.38s/it]\n",
            "                 all         87         87      0.153      0.368      0.128     0.0194\n",
            "\n",
            "     Epoch   gpu_mem       box       obj       cls    labels  img_size\n",
            "     14/49        0G   0.07529   0.02231         0        30       128: 100% 19/19 [00:41<00:00,  2.20s/it]\n",
            "               Class     Images     Labels          P          R     mAP@.5 mAP@.5:.95: 100% 2/2 [00:03<00:00,  1.59s/it]\n",
            "                 all         87         87      0.142      0.724      0.157     0.0336\n",
            "\n",
            "     Epoch   gpu_mem       box       obj       cls    labels  img_size\n",
            "     15/49        0G   0.07408   0.02256         0        22       128: 100% 19/19 [00:42<00:00,  2.24s/it]\n",
            "               Class     Images     Labels          P          R     mAP@.5 mAP@.5:.95: 100% 2/2 [00:02<00:00,  1.38s/it]\n",
            "                 all         87         87      0.161      0.471      0.184     0.0451\n",
            "\n",
            "     Epoch   gpu_mem       box       obj       cls    labels  img_size\n",
            "     16/49        0G   0.07091   0.02276         0        28       128: 100% 19/19 [00:41<00:00,  2.20s/it]\n",
            "               Class     Images     Labels          P          R     mAP@.5 mAP@.5:.95: 100% 2/2 [00:02<00:00,  1.36s/it]\n",
            "                 all         87         87      0.163       0.54      0.183     0.0267\n",
            "\n",
            "     Epoch   gpu_mem       box       obj       cls    labels  img_size\n",
            "     17/49        0G   0.06762   0.02359         0        25       128: 100% 19/19 [00:41<00:00,  2.19s/it]\n",
            "               Class     Images     Labels          P          R     mAP@.5 mAP@.5:.95: 100% 2/2 [00:02<00:00,  1.35s/it]\n",
            "                 all         87         87      0.292      0.391       0.22      0.056\n",
            "\n",
            "     Epoch   gpu_mem       box       obj       cls    labels  img_size\n",
            "     18/49        0G   0.06414   0.02396         0        31       128: 100% 19/19 [00:41<00:00,  2.17s/it]\n",
            "               Class     Images     Labels          P          R     mAP@.5 mAP@.5:.95: 100% 2/2 [00:02<00:00,  1.40s/it]\n",
            "                 all         87         87       0.24      0.389      0.216      0.095\n",
            "\n",
            "     Epoch   gpu_mem       box       obj       cls    labels  img_size\n",
            "     19/49        0G   0.06135   0.02362         0        27       128: 100% 19/19 [00:41<00:00,  2.19s/it]\n",
            "               Class     Images     Labels          P          R     mAP@.5 mAP@.5:.95: 100% 2/2 [00:03<00:00,  1.59s/it]\n",
            "                 all         87         87      0.268       0.46      0.226     0.0992\n",
            "\n",
            "     Epoch   gpu_mem       box       obj       cls    labels  img_size\n",
            "     20/49        0G   0.05734   0.02457         0        26       128: 100% 19/19 [00:42<00:00,  2.24s/it]\n",
            "               Class     Images     Labels          P          R     mAP@.5 mAP@.5:.95: 100% 2/2 [00:02<00:00,  1.38s/it]\n",
            "                 all         87         87      0.153      0.356      0.172     0.0872\n",
            "\n",
            "     Epoch   gpu_mem       box       obj       cls    labels  img_size\n",
            "     21/49        0G   0.05538   0.02431         0        23       128: 100% 19/19 [00:41<00:00,  2.17s/it]\n",
            "               Class     Images     Labels          P          R     mAP@.5 mAP@.5:.95: 100% 2/2 [00:02<00:00,  1.36s/it]\n",
            "                 all         87         87     0.0766      0.356     0.0845     0.0192\n",
            "\n",
            "     Epoch   gpu_mem       box       obj       cls    labels  img_size\n",
            "     22/49        0G   0.05314   0.02406         0        26       128: 100% 19/19 [00:41<00:00,  2.17s/it]\n",
            "               Class     Images     Labels          P          R     mAP@.5 mAP@.5:.95: 100% 2/2 [00:02<00:00,  1.36s/it]\n",
            "                 all         87         87      0.247      0.494      0.219     0.0632\n",
            "\n",
            "     Epoch   gpu_mem       box       obj       cls    labels  img_size\n",
            "     23/49        0G   0.04921   0.02397         0        31       128: 100% 19/19 [00:41<00:00,  2.17s/it]\n",
            "               Class     Images     Labels          P          R     mAP@.5 mAP@.5:.95: 100% 2/2 [00:02<00:00,  1.38s/it]\n",
            "                 all         87         87      0.488      0.514      0.488      0.307\n",
            "\n",
            "     Epoch   gpu_mem       box       obj       cls    labels  img_size\n",
            "     24/49        0G   0.04854   0.02357         0        30       128: 100% 19/19 [00:41<00:00,  2.19s/it]\n",
            "               Class     Images     Labels          P          R     mAP@.5 mAP@.5:.95: 100% 2/2 [00:03<00:00,  1.58s/it]\n",
            "                 all         87         87      0.791      0.747      0.793      0.534\n",
            "\n",
            "     Epoch   gpu_mem       box       obj       cls    labels  img_size\n",
            "     25/49        0G   0.04445   0.02262         0        23       128: 100% 19/19 [00:43<00:00,  2.29s/it]\n",
            "               Class     Images     Labels          P          R     mAP@.5 mAP@.5:.95: 100% 2/2 [00:02<00:00,  1.36s/it]\n",
            "                 all         87         87      0.393       0.49      0.298      0.273\n",
            "\n",
            "     Epoch   gpu_mem       box       obj       cls    labels  img_size\n",
            "     26/49        0G   0.04258   0.02266         0        29       128: 100% 19/19 [00:40<00:00,  2.16s/it]\n",
            "               Class     Images     Labels          P          R     mAP@.5 mAP@.5:.95: 100% 2/2 [00:02<00:00,  1.38s/it]\n",
            "                 all         87         87      0.153      0.689      0.147       0.07\n",
            "\n",
            "     Epoch   gpu_mem       box       obj       cls    labels  img_size\n",
            "     27/49        0G   0.04169   0.02135         0        25       128: 100% 19/19 [00:40<00:00,  2.14s/it]\n",
            "               Class     Images     Labels          P          R     mAP@.5 mAP@.5:.95: 100% 2/2 [00:02<00:00,  1.35s/it]\n",
            "                 all         87         87      0.243      0.181      0.119     0.0513\n",
            "\n",
            "     Epoch   gpu_mem       box       obj       cls    labels  img_size\n",
            "     28/49        0G   0.04017   0.02162         0        29       128: 100% 19/19 [00:40<00:00,  2.14s/it]\n",
            "               Class     Images     Labels          P          R     mAP@.5 mAP@.5:.95: 100% 2/2 [00:02<00:00,  1.38s/it]\n",
            "                 all         87         87       0.27      0.184      0.195      0.159\n",
            "\n",
            "     Epoch   gpu_mem       box       obj       cls    labels  img_size\n",
            "     29/49        0G   0.03948   0.02118         0        26       128: 100% 19/19 [00:40<00:00,  2.16s/it]\n",
            "               Class     Images     Labels          P          R     mAP@.5 mAP@.5:.95: 100% 2/2 [00:03<00:00,  1.58s/it]\n",
            "                 all         87         87     0.0556      0.331     0.0458    0.00953\n",
            "\n",
            "     Epoch   gpu_mem       box       obj       cls    labels  img_size\n",
            "     30/49        0G   0.03819   0.02047         0        27       128: 100% 19/19 [00:42<00:00,  2.22s/it]\n",
            "               Class     Images     Labels          P          R     mAP@.5 mAP@.5:.95: 100% 2/2 [00:02<00:00,  1.35s/it]\n",
            "                 all         87         87      0.585       0.55      0.595      0.523\n",
            "\n",
            "     Epoch   gpu_mem       box       obj       cls    labels  img_size\n",
            "     31/49        0G   0.03565    0.0198         0        24       128: 100% 19/19 [00:41<00:00,  2.16s/it]\n",
            "               Class     Images     Labels          P          R     mAP@.5 mAP@.5:.95: 100% 2/2 [00:02<00:00,  1.38s/it]\n",
            "                 all         87         87      0.238      0.701      0.229        0.1\n",
            "\n",
            "     Epoch   gpu_mem       box       obj       cls    labels  img_size\n",
            "     32/49        0G   0.03423   0.01893         0        25       128: 100% 19/19 [00:40<00:00,  2.14s/it]\n",
            "               Class     Images     Labels          P          R     mAP@.5 mAP@.5:.95: 100% 2/2 [00:02<00:00,  1.39s/it]\n",
            "                 all         87         87      0.336      0.287      0.238       0.14\n",
            "\n",
            "     Epoch   gpu_mem       box       obj       cls    labels  img_size\n",
            "     33/49        0G   0.03403   0.01885         0        31       128: 100% 19/19 [00:40<00:00,  2.16s/it]\n",
            "               Class     Images     Labels          P          R     mAP@.5 mAP@.5:.95: 100% 2/2 [00:02<00:00,  1.39s/it]\n",
            "                 all         87         87      0.989      0.988      0.993      0.767\n",
            "\n",
            "     Epoch   gpu_mem       box       obj       cls    labels  img_size\n",
            "     34/49        0G   0.03367   0.01833         0        26       128: 100% 19/19 [00:40<00:00,  2.16s/it]\n",
            "               Class     Images     Labels          P          R     mAP@.5 mAP@.5:.95: 100% 2/2 [00:03<00:00,  1.59s/it]\n",
            "                 all         87         87      0.878       0.92      0.934      0.687\n",
            "\n",
            "     Epoch   gpu_mem       box       obj       cls    labels  img_size\n",
            "     35/49        0G   0.03228   0.01778         0        29       128: 100% 19/19 [00:42<00:00,  2.26s/it]\n",
            "               Class     Images     Labels          P          R     mAP@.5 mAP@.5:.95: 100% 2/2 [00:02<00:00,  1.37s/it]\n",
            "                 all         87         87      0.989          1      0.995      0.534\n",
            "\n",
            "     Epoch   gpu_mem       box       obj       cls    labels  img_size\n",
            "     36/49        0G   0.03101   0.01767         0        32       128: 100% 19/19 [00:40<00:00,  2.13s/it]\n",
            "               Class     Images     Labels          P          R     mAP@.5 mAP@.5:.95: 100% 2/2 [00:02<00:00,  1.36s/it]\n",
            "                 all         87         87          1          1      0.995      0.843\n",
            "\n",
            "     Epoch   gpu_mem       box       obj       cls    labels  img_size\n",
            "     37/49        0G   0.02996   0.01728         0        32       128: 100% 19/19 [00:41<00:00,  2.16s/it]\n",
            "               Class     Images     Labels          P          R     mAP@.5 mAP@.5:.95: 100% 2/2 [00:02<00:00,  1.38s/it]\n",
            "                 all         87         87      0.693      0.954      0.818      0.543\n",
            "\n",
            "     Epoch   gpu_mem       box       obj       cls    labels  img_size\n",
            "     38/49        0G   0.02971   0.01696         0        24       128: 100% 19/19 [00:40<00:00,  2.15s/it]\n",
            "               Class     Images     Labels          P          R     mAP@.5 mAP@.5:.95: 100% 2/2 [00:02<00:00,  1.39s/it]\n",
            "                 all         87         87          1          1      0.995      0.731\n",
            "\n",
            "     Epoch   gpu_mem       box       obj       cls    labels  img_size\n",
            "     39/49        0G   0.02821   0.01667         0        26       128: 100% 19/19 [00:41<00:00,  2.16s/it]\n",
            "               Class     Images     Labels          P          R     mAP@.5 mAP@.5:.95: 100% 2/2 [00:03<00:00,  1.60s/it]\n",
            "                 all         87         87      0.977      0.988      0.994      0.791\n",
            "\n",
            "     Epoch   gpu_mem       box       obj       cls    labels  img_size\n",
            "     40/49        0G   0.02772   0.01624         0        29       128: 100% 19/19 [00:42<00:00,  2.25s/it]\n",
            "               Class     Images     Labels          P          R     mAP@.5 mAP@.5:.95: 100% 2/2 [00:02<00:00,  1.36s/it]\n",
            "                 all         87         87          1          1      0.995      0.751\n",
            "\n",
            "     Epoch   gpu_mem       box       obj       cls    labels  img_size\n",
            "     41/49        0G   0.02707   0.01648         0        32       128: 100% 19/19 [00:41<00:00,  2.17s/it]\n",
            "               Class     Images     Labels          P          R     mAP@.5 mAP@.5:.95: 100% 2/2 [00:02<00:00,  1.36s/it]\n",
            "                 all         87         87          1          1      0.995      0.832\n",
            "\n",
            "     Epoch   gpu_mem       box       obj       cls    labels  img_size\n",
            "     42/49        0G   0.02699   0.01575         0        27       128: 100% 19/19 [00:40<00:00,  2.15s/it]\n",
            "               Class     Images     Labels          P          R     mAP@.5 mAP@.5:.95: 100% 2/2 [00:02<00:00,  1.35s/it]\n",
            "                 all         87         87      0.989          1      0.994      0.755\n",
            "\n",
            "     Epoch   gpu_mem       box       obj       cls    labels  img_size\n",
            "     43/49        0G   0.02609   0.01556         0        29       128: 100% 19/19 [00:40<00:00,  2.14s/it]\n",
            "               Class     Images     Labels          P          R     mAP@.5 mAP@.5:.95: 100% 2/2 [00:02<00:00,  1.38s/it]\n",
            "                 all         87         87      0.845      0.989      0.967      0.629\n",
            "\n",
            "     Epoch   gpu_mem       box       obj       cls    labels  img_size\n",
            "     44/49        0G   0.02534   0.01547         0        31       128: 100% 19/19 [00:40<00:00,  2.15s/it]\n",
            "               Class     Images     Labels          P          R     mAP@.5 mAP@.5:.95: 100% 2/2 [00:03<00:00,  1.61s/it]\n",
            "                 all         87         87      0.912      0.851      0.954      0.489\n",
            "\n",
            "     Epoch   gpu_mem       box       obj       cls    labels  img_size\n",
            "     45/49        0G   0.02502   0.01563         0        33       128: 100% 19/19 [00:43<00:00,  2.30s/it]\n",
            "               Class     Images     Labels          P          R     mAP@.5 mAP@.5:.95: 100% 2/2 [00:02<00:00,  1.40s/it]\n",
            "                 all         87         87       0.88       0.93      0.937      0.596\n",
            "\n",
            "     Epoch   gpu_mem       box       obj       cls    labels  img_size\n",
            "     46/49        0G   0.02489   0.01463         0        29       128: 100% 19/19 [00:41<00:00,  2.17s/it]\n",
            "               Class     Images     Labels          P          R     mAP@.5 mAP@.5:.95: 100% 2/2 [00:02<00:00,  1.39s/it]\n",
            "                 all         87         87      0.655      0.873       0.78      0.474\n",
            "\n",
            "     Epoch   gpu_mem       box       obj       cls    labels  img_size\n",
            "     47/49        0G   0.02401   0.01471         0        31       128: 100% 19/19 [00:41<00:00,  2.19s/it]\n",
            "               Class     Images     Labels          P          R     mAP@.5 mAP@.5:.95: 100% 2/2 [00:02<00:00,  1.38s/it]\n",
            "                 all         87         87          1      0.988      0.994      0.683\n",
            "\n",
            "     Epoch   gpu_mem       box       obj       cls    labels  img_size\n",
            "     48/49        0G   0.02359   0.01473         0        23       128: 100% 19/19 [00:41<00:00,  2.17s/it]\n",
            "               Class     Images     Labels          P          R     mAP@.5 mAP@.5:.95: 100% 2/2 [00:02<00:00,  1.39s/it]\n",
            "                 all         87         87          1          1      0.995      0.688\n",
            "\n",
            "     Epoch   gpu_mem       box       obj       cls    labels  img_size\n",
            "     49/49        0G    0.0231   0.01454         0        28       128: 100% 19/19 [00:41<00:00,  2.18s/it]\n",
            "               Class     Images     Labels          P          R     mAP@.5 mAP@.5:.95: 100% 2/2 [00:03<00:00,  1.60s/it]\n",
            "                 all         87         87          1          1      0.995      0.747\n",
            "\n",
            "50 epochs completed in 0.627 hours.\n",
            "Optimizer stripped from runs/train/exp11/weights/last.pt, 14.2MB\n",
            "Optimizer stripped from runs/train/exp11/weights/best.pt, 14.2MB\n",
            "\n",
            "Validating runs/train/exp11/weights/best.pt...\n",
            "Fusing layers... \n",
            "Model Summary: 213 layers, 7012822 parameters, 0 gradients\n",
            "               Class     Images     Labels          P          R     mAP@.5 mAP@.5:.95: 100% 2/2 [00:05<00:00,  2.61s/it]\n",
            "                 all         87         87          1          1      0.995      0.843\n",
            "\n",
            "\u001b[34m\u001b[1mwandb\u001b[0m: Waiting for W&B process to finish, PID 3807... (success).\n",
            "\u001b[34m\u001b[1mwandb\u001b[0m:                                                                                \n",
            "\u001b[34m\u001b[1mwandb\u001b[0m: Run history:\n",
            "\u001b[34m\u001b[1mwandb\u001b[0m:        metrics/mAP_0.5 ▁▁▁▁▁▁▁▁▁▁▁▁▂▂▂▂▂▁▂▄▃▂▁▂▅▂▂███▇██████▆██\n",
            "\u001b[34m\u001b[1mwandb\u001b[0m:   metrics/mAP_0.5:0.95 ▁▁▁▁▁▁▁▁▁▁▁▁▁▁▁▂▂▁▁▄▃▂▁▂▅▂▂▇▅█▅▇▇█▇▆▆▅▇▇\n",
            "\u001b[34m\u001b[1mwandb\u001b[0m:      metrics/precision ▁▁▁▁▁▁▁▁▁▁▁▂▂▂▃▂▂▁▃▄▄▂▂▃▅▂▃███▆████▇▇▅██\n",
            "\u001b[34m\u001b[1mwandb\u001b[0m:         metrics/recall █████▆▅▆▆▅▆▃▃▄▃▃▂▂▄▄▄▅▁▁▄▅▂█████████▇▇██\n",
            "\u001b[34m\u001b[1mwandb\u001b[0m:         train/box_loss █▇▇▇▆▆▆▆▆▆▆▆▆▅▅▅▄▄▄▃▃▃▃▃▂▂▂▂▂▂▂▂▁▁▁▁▁▁▁▁\n",
            "\u001b[34m\u001b[1mwandb\u001b[0m:         train/cls_loss ▁▁▁▁▁▁▁▁▁▁▁▁▁▁▁▁▁▁▁▁▁▁▁▁▁▁▁▁▁▁▁▁▁▁▁▁▁▁▁▁\n",
            "\u001b[34m\u001b[1mwandb\u001b[0m:         train/obj_loss ▆███▇▇▆▆▆▆▆▆▆▆▇▇▇▇▇▇▆▆▅▆▅▄▄▄▃▃▃▃▂▂▂▂▂▁▁▁\n",
            "\u001b[34m\u001b[1mwandb\u001b[0m:           val/box_loss ▇▇▇▇▆▆▆▆▆▆▆▆▆▆▅▅▅▅▅▅▇▇█▆▄▄▄▁▁▁▂▁▁▁▁▂▂▂▁▁\n",
            "\u001b[34m\u001b[1mwandb\u001b[0m:           val/cls_loss ▁▁▁▁▁▁▁▁▁▁▁▁▁▁▁▁▁▁▁▁▁▁▁▁▁▁▁▁▁▁▁▁▁▁▁▁▁▁▁▁\n",
            "\u001b[34m\u001b[1mwandb\u001b[0m:           val/obj_loss ▁▁▁▁▁▁▁▁▁▂▂▂▂▂▂▂▂▂▂▃▅▃█▆▃▄▃▂▂▂▂▂▂▂▂▂▂▂▂▂\n",
            "\u001b[34m\u001b[1mwandb\u001b[0m:                  x/lr0 ▁▂▂▃▄▄▄▅▆▆▆▇▇▇█████████▇▇▇▇▆▆▆▅▅▄▄▄▄▃▃▃▃\n",
            "\u001b[34m\u001b[1mwandb\u001b[0m:                  x/lr1 ▁▂▂▃▄▄▄▅▆▆▆▇▇▇█████████▇▇▇▇▆▆▆▅▅▄▄▄▄▃▃▃▃\n",
            "\u001b[34m\u001b[1mwandb\u001b[0m:                  x/lr2 ████▇▇▇▇▇▇▆▆▆▆▆▆▅▅▅▅▅▄▄▄▄▄▄▃▃▃▃▃▂▂▂▂▂▁▁▁\n",
            "\u001b[34m\u001b[1mwandb\u001b[0m: \n",
            "\u001b[34m\u001b[1mwandb\u001b[0m: Run summary:\n",
            "\u001b[34m\u001b[1mwandb\u001b[0m:        metrics/mAP_0.5 0.995\n",
            "\u001b[34m\u001b[1mwandb\u001b[0m:   metrics/mAP_0.5:0.95 0.74726\n",
            "\u001b[34m\u001b[1mwandb\u001b[0m:      metrics/precision 1.0\n",
            "\u001b[34m\u001b[1mwandb\u001b[0m:         metrics/recall 0.99998\n",
            "\u001b[34m\u001b[1mwandb\u001b[0m:         train/box_loss 0.0231\n",
            "\u001b[34m\u001b[1mwandb\u001b[0m:         train/cls_loss 0.0\n",
            "\u001b[34m\u001b[1mwandb\u001b[0m:         train/obj_loss 0.01454\n",
            "\u001b[34m\u001b[1mwandb\u001b[0m:           val/box_loss 0.01576\n",
            "\u001b[34m\u001b[1mwandb\u001b[0m:           val/cls_loss 0.0\n",
            "\u001b[34m\u001b[1mwandb\u001b[0m:           val/obj_loss 0.00714\n",
            "\u001b[34m\u001b[1mwandb\u001b[0m:                  x/lr0 0.00096\n",
            "\u001b[34m\u001b[1mwandb\u001b[0m:                  x/lr1 0.00096\n",
            "\u001b[34m\u001b[1mwandb\u001b[0m:                  x/lr2 0.00606\n",
            "\u001b[34m\u001b[1mwandb\u001b[0m: \n",
            "\u001b[34m\u001b[1mwandb\u001b[0m: Synced 5 W&B file(s), 335 media file(s), 1 artifact file(s) and 0 other file(s)\n",
            "\u001b[34m\u001b[1mwandb\u001b[0m: Synced \u001b[33mradiant-dust-3\u001b[0m: \u001b[34mhttps://wandb.ai/reza00021/YOLOv5/runs/2pklyxtw\u001b[0m\n",
            "\u001b[34m\u001b[1mwandb\u001b[0m: Find logs at: ./wandb/run-20211015_103332-2pklyxtw/logs/debug.log\n",
            "\u001b[34m\u001b[1mwandb\u001b[0m: \n",
            "Results saved to \u001b[1mruns/train/exp11\u001b[0m\n"
          ]
        }
      ]
    },
    {
      "cell_type": "code",
      "metadata": {
        "id": "sOvOgcPSn9NY"
      },
      "source": [
        "# ! cd \"/content/drive/MyDrive/dataset/Plates/crop_m3 (1)\"; mmv \\* h\\#1; ls\n",
        "# ! cd \"/content/drive/MyDrive/dataset/Plates/crop_m3 (1)\"; mv * ../train; ls\n",
        "# ! cd \"/content/drive/MyDrive/dataset/Plates\"; mkdir val; #mv 'train' 'train2'; mkdir train;\n",
        "# ! rm '/content/drive/MyDrive/dataset/Plates/train.cache'\n",
        "# ! cd '/content/drive/MyDrive/dataset/Plates/labels'; \n",
        "# ! ls /content/drive/MyDrive/dataset/Plates/list_train.txt"
      ],
      "execution_count": null,
      "outputs": []
    },
    {
      "cell_type": "code",
      "metadata": {
        "id": "LuEg5ff0n9P_",
        "colab": {
          "base_uri": "https://localhost:8080/",
          "height": 145
        },
        "outputId": "0d125f2e-3322-42e5-dc45-ce12285c1ef8"
      },
      "source": [
        "display(Image(filename=\"/content/drive/MyDrive/dataset/Plates/train/cI00065.jpeg\"))\n",
        "# /content/drive/MyDrive/programs/yolov5/runs/train/exp9/weights/last.pt"
      ],
      "execution_count": null,
      "outputs": [
        {
          "output_type": "display_data",
          "data": {
            "image/jpeg": "[encoded data removed]",
            "text/plain": [
              "<IPython.core.display.Image object>"
            ]
          },
          "metadata": {}
        }
      ]
    },
    {
      "cell_type": "code",
      "metadata": {
        "colab": {
          "base_uri": "https://localhost:8080/"
        },
        "id": "9gIbexzT86xh",
        "outputId": "301545a1-9430-444a-c4d3-fd1e99ba41de"
      },
      "source": [
        "! cd '/content/drive/MyDrive/programs/yolov5/'; python detect.py --weights runs/train/exp11/weights/last.pt --conf 0.4 --source '/content/drive/MyDrive/dataset/test/'"
      ],
      "execution_count": null,
      "outputs": [
        {
          "output_type": "stream",
          "name": "stdout",
          "text": [
            "\u001b[34m\u001b[1mdetect: \u001b[0mweights=['runs/train/exp11/weights/last.pt'], source=/content/drive/MyDrive/dataset/test/, imgsz=[640, 640], conf_thres=0.4, iou_thres=0.45, max_det=1000, device=, view_img=False, save_txt=False, save_conf=False, save_crop=False, nosave=False, classes=None, agnostic_nms=False, augment=False, visualize=False, update=False, project=runs/detect, name=exp, exist_ok=False, line_thickness=3, hide_labels=False, hide_conf=False, half=False, dnn=False\n",
            "YOLOv5 🚀 v6.0-13-gfc36064 torch 1.9.0+cu111 CPU\n",
            "\n",
            "Fusing layers... \n",
            "Model Summary: 213 layers, 7012822 parameters, 0 gradients\n",
            "image 1/10 /content/drive/MyDrive/dataset/test/aI00000.jpeg: 640x640 53 plates, Done. (0.447s)\n",
            "image 2/10 /content/drive/MyDrive/dataset/test/car1.jpg: 448x640 44 plates, Done. (0.311s)\n",
            "image 3/10 /content/drive/MyDrive/dataset/test/car22.jpg: 448x640 45 plates, Done. (0.305s)\n",
            "image 4/10 /content/drive/MyDrive/dataset/test/car23.png: 320x640 32 plates, Done. (0.227s)\n",
            "image 5/10 /content/drive/MyDrive/dataset/test/car24.jpg: 640x640 53 plates, Done. (0.460s)\n",
            "image 6/10 /content/drive/MyDrive/dataset/test/car3.jpg: 480x640 46 plates, Done. (0.324s)\n",
            "image 7/10 /content/drive/MyDrive/dataset/test/car4.jpg: 640x640 62 plates, Done. (0.438s)\n",
            "image 8/10 /content/drive/MyDrive/dataset/test/car5.jpg: 384x640 37 plates, Done. (0.258s)\n",
            "image 9/10 /content/drive/MyDrive/dataset/test/car6.jpg: 384x640 31 plates, Done. (0.254s)\n",
            "image 10/10 /content/drive/MyDrive/dataset/test/car7.jpg: 640x544 56 plates, Done. (0.382s)\n",
            "Speed: 2.6ms pre-process, 340.5ms inference, 1.0ms NMS per image at shape (1, 3, 640, 640)\n",
            "Results saved to \u001b[1mruns/detect/exp14\u001b[0m\n"
          ]
        }
      ]
    },
    {
      "cell_type": "code",
      "metadata": {
        "colab": {
          "base_uri": "https://localhost:8080/"
        },
        "id": "sTvqS45rZGo_",
        "outputId": "f5ad6cf1-752f-4ab0-f4d1-ca13e431472d"
      },
      "source": [
        "! cd \"/content/drive/MyDrive/dataset/Plates/weights\";  wget \"https://github.com/sid0312/anpr_yolov5/raw/master/weights/last.pt\"\n",
        "# ! cd \"/content/drive/MyDrive/dataset/Plates/weights/yolo-license-plate-detection-master/weights/last.pt\"; ls -l"
      ],
      "execution_count": null,
      "outputs": [
        {
          "output_type": "stream",
          "name": "stdout",
          "text": [
            "--2021-10-15 10:15:32--  https://github.com/sid0312/anpr_yolov5/raw/master/weights/last.pt\n",
            "Resolving github.com (github.com)... 140.82.112.4\n",
            "Connecting to github.com (github.com)|140.82.112.4|:443... connected.\n",
            "HTTP request sent, awaiting response... 302 Found\n",
            "Location: https://raw.githubusercontent.com/sid0312/anpr_yolov5/master/weights/last.pt [following]\n",
            "--2021-10-15 10:15:32--  https://raw.githubusercontent.com/sid0312/anpr_yolov5/master/weights/last.pt\n",
            "Resolving raw.githubusercontent.com (raw.githubusercontent.com)... 185.199.108.133, 185.199.109.133, 185.199.110.133, ...\n",
            "Connecting to raw.githubusercontent.com (raw.githubusercontent.com)|185.199.108.133|:443... connected.\n",
            "HTTP request sent, awaiting response... 200 OK\n",
            "Length: 27728874 (26M) [application/octet-stream]\n",
            "Saving to: ‘last.pt’\n",
            "\n",
            "last.pt             100%[===================>]  26.44M  53.8MB/s    in 0.5s    \n",
            "\n",
            "2021-10-15 10:15:33 (53.8 MB/s) - ‘last.pt’ saved [27728874/27728874]\n",
            "\n"
          ]
        }
      ]
    },
    {
      "cell_type": "code",
      "metadata": {
        "id": "yAh1_8oraVOH"
      },
      "source": [
        ""
      ],
      "execution_count": null,
      "outputs": []
    }
  ]
}